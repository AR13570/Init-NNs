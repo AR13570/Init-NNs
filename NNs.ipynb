{
 "cells": [
  {
   "cell_type": "code",
   "execution_count": 3,
   "id": "11c42266",
   "metadata": {},
   "outputs": [],
   "source": [
    "import torch\n",
    "import torchvision \n",
    "from torchvision.datasets import MNIST\n",
    "import torch.nn as nn\n",
    "import numpy as np\n",
    "import matplotlib.pyplot as plt\n",
    "%matplotlib inline\n",
    "import torchvision.transforms as transforms\n",
    "import torch.nn.functional as F"
   ]
  },
  {
   "cell_type": "code",
   "execution_count": 7,
   "id": "f439e940",
   "metadata": {},
   "outputs": [],
   "source": [
    "input_size = 28*28\n",
    "hidden_size = 100\n",
    "num_classes = 10\n",
    "batch_size = 200\n",
    "learn_rate = 0.003"
   ]
  },
  {
   "cell_type": "code",
   "execution_count": 8,
   "id": "18868267",
   "metadata": {},
   "outputs": [],
   "source": [
    "train_ds = torchvision.datasets.MNIST(root=\"data/JupyterProjects/\",train=True,transform=transforms.ToTensor(),download=True)\n",
    "test_ds = torchvision.datasets.MNIST(root=\"data/JupyterProjects/\",train=False,transform=transforms.ToTensor(),download=True)"
   ]
  },
  {
   "cell_type": "code",
   "execution_count": 9,
   "id": "e540f3ac",
   "metadata": {},
   "outputs": [],
   "source": [
    "from torch.utils.data import DataLoader\n"
   ]
  },
  {
   "cell_type": "code",
   "execution_count": 10,
   "id": "1dddbe70",
   "metadata": {},
   "outputs": [],
   "source": [
    "train_dl = DataLoader(train_ds,shuffle=True,batch_size=batch_size)\n",
    "test_dl = DataLoader(test_ds,shuffle=True,batch_size=batch_size)"
   ]
  },
  {
   "cell_type": "code",
   "execution_count": 11,
   "id": "dcc378d2",
   "metadata": {},
   "outputs": [
    {
     "name": "stdout",
     "output_type": "stream",
     "text": [
      "torch.Size([200, 1, 28, 28])\n"
     ]
    }
   ],
   "source": [
    "for xb,yb in train_dl:\n",
    "    print(xb.shape)\n",
    "    break"
   ]
  },
  {
   "cell_type": "code",
   "execution_count": 13,
   "id": "762d84ca",
   "metadata": {},
   "outputs": [],
   "source": [
    "class SimpleNN(nn.Module):\n",
    "    def __init__(self,input_size,hidden_size,output_size):\n",
    "        super().__init__()\n",
    "        self.lin1 = nn.Linear(input_size,hidden_size)\n",
    "        self.relu = nn.ReLU()\n",
    "        self.lin2 = nn.Linear(hidden_size,output_size)\n",
    "    \n",
    "    def forward(self,dl):\n",
    "        out=self.lin1(dl)\n",
    "        out=self.relu(out)\n",
    "        out=self.lin2(out)\n",
    "        return out"
   ]
  },
  {
   "cell_type": "code",
   "execution_count": 14,
   "id": "a37f29b8",
   "metadata": {},
   "outputs": [],
   "source": [
    "model1 = SimpleNN(input_size,hidden_size,num_classes)\n"
   ]
  },
  {
   "cell_type": "code",
   "execution_count": 15,
   "id": "86a5f7b4",
   "metadata": {},
   "outputs": [
    {
     "data": {
      "text/plain": [
       "Adam (\n",
       "Parameter Group 0\n",
       "    amsgrad: False\n",
       "    betas: (0.9, 0.999)\n",
       "    eps: 1e-08\n",
       "    lr: 0.003\n",
       "    weight_decay: 0\n",
       ")"
      ]
     },
     "execution_count": 15,
     "metadata": {},
     "output_type": "execute_result"
    }
   ],
   "source": [
    "opt = torch.optim.Adam(model1.parameters(),learn_rate)\n",
    "opt"
   ]
  },
  {
   "cell_type": "code",
   "execution_count": 16,
   "id": "ba33de3f",
   "metadata": {},
   "outputs": [],
   "source": [
    "loss_func = nn.CrossEntropyLoss() "
   ]
  },
  {
   "cell_type": "code",
   "execution_count": 21,
   "id": "8e8d548f",
   "metadata": {},
   "outputs": [],
   "source": [
    "\n",
    "def train(num_epochs,model):\n",
    "    for epoch in range(num_epochs):\n",
    "        for xb,yb in train_dl: #xb, yb are taken batchwise from dataloader\n",
    "            #reshapes the xb(input from [100,1,28,28] to [100,784] to match the model parameters)\n",
    "            if model.__class__.__name__ == \"SimpleNN\":\n",
    "                xb=xb.reshape(-1,28*28)\n",
    "            \n",
    "            #predicts the output for the given batch xb\n",
    "            pred = model(xb)\n",
    "\n",
    "            #calc the loss and find its gradient in order to calc change in weight needed\n",
    "            loss=loss_func(pred,yb)\n",
    "            loss.backward()\n",
    "\n",
    "            #optimizer adjusts weights to reduce loss\n",
    "            opt.step()\n",
    "\n",
    "            #makes grad=0 to ensure theres no overlapping and summing of gradients\n",
    "            opt.zero_grad()\n",
    "\n",
    "        print(f\"Loss in epoch {epoch+1}/{num_epochs} : {loss}\")"
   ]
  },
  {
   "cell_type": "code",
   "execution_count": 13,
   "id": "cf5455d8",
   "metadata": {},
   "outputs": [
    {
     "name": "stdout",
     "output_type": "stream",
     "text": [
      "Loss in epoch 1/10 : 0.2013801783323288\n",
      "Loss in epoch 2/10 : 0.11297214776277542\n",
      "Loss in epoch 3/10 : 0.19428320229053497\n",
      "Loss in epoch 4/10 : 0.09385834634304047\n",
      "Loss in epoch 5/10 : 0.04026123508810997\n",
      "Loss in epoch 6/10 : 0.05915455520153046\n",
      "Loss in epoch 7/10 : 0.022008370608091354\n",
      "Loss in epoch 8/10 : 0.02458163909614086\n",
      "Loss in epoch 9/10 : 0.03563602268695831\n",
      "Loss in epoch 10/10 : 0.020175039768218994\n"
     ]
    }
   ],
   "source": [
    "train(10,model1)"
   ]
  },
  {
   "cell_type": "code",
   "execution_count": 25,
   "id": "631e815a",
   "metadata": {},
   "outputs": [],
   "source": [
    "def test(model):\n",
    "    with torch.no_grad():\n",
    "        correct=0\n",
    "        total=0\n",
    "        for xb,yb in test_dl:\n",
    "            if model.__class__.__name__ == \"SimpleNN\":\n",
    "                xb=xb.reshape(-1,28*28)\n",
    "            pred=model(xb)\n",
    "            _,pred_label=torch.max(pred,dim=1)\n",
    "            correct += (pred_label==yb).sum().item()\n",
    "            total += yb.shape[0]  #yb.shape[0] gives us the number of labels in a batch\n",
    "        accuracy = 100*correct/total\n",
    "        print(f\"Accuracy = {accuracy}%\")"
   ]
  },
  {
   "cell_type": "code",
   "execution_count": 15,
   "id": "026a1971",
   "metadata": {},
   "outputs": [
    {
     "name": "stdout",
     "output_type": "stream",
     "text": [
      "Accuracy = 97.5%\n"
     ]
    }
   ],
   "source": [
    "test(model1)\n"
   ]
  },
  {
   "cell_type": "code",
   "execution_count": 17,
   "id": "40a23e24",
   "metadata": {},
   "outputs": [],
   "source": [
    "class convModel(nn.Module): #output size formula = (input_width - filter + 2*padding)/stride  + 1\n",
    "    def __init__(self):\n",
    "        \n",
    "        super().__init__()\n",
    "        #1x28x28\n",
    "        self.conv1=nn.Conv2d(1,8,kernel_size=3,padding=1,stride=1) \n",
    "        #8x28x28\n",
    "        self.max1=nn.MaxPool2d(2,2)\n",
    "        #8x14x14\n",
    "        self.conv2=nn.Conv2d(8,16,kernel_size=3,padding=1,stride=1)\n",
    "        #16x14x14\n",
    "        self.max2=nn.MaxPool2d(2,2)\n",
    "        #16x7x7\n",
    "        self.fc1=nn.Linear(16*7*7,256)\n",
    "        self.fc2=nn.Linear(256,10)\n",
    "    \n",
    "    def forward(self,xb):\n",
    "        out=self.conv1(xb)\n",
    "        out=F.relu(out)\n",
    "        out=self.max1(out)\n",
    "        out=self.conv2(out)\n",
    "        out=F.relu(out)\n",
    "        out=self.max2(out)\n",
    "        out=out.view(-1,16*7*7)\n",
    "        out=self.fc1(out)\n",
    "        out=self.fc2(out)\n",
    "        \n",
    "        return out\n",
    "        "
   ]
  },
  {
   "cell_type": "code",
   "execution_count": 18,
   "id": "699eecc7",
   "metadata": {},
   "outputs": [],
   "source": [
    "model2 = convModel()"
   ]
  },
  {
   "cell_type": "code",
   "execution_count": 27,
   "id": "29df6e6b",
   "metadata": {},
   "outputs": [
    {
     "data": {
      "text/plain": [
       "Adam (\n",
       "Parameter Group 0\n",
       "    amsgrad: False\n",
       "    betas: (0.9, 0.999)\n",
       "    eps: 1e-08\n",
       "    lr: 0.0001\n",
       "    weight_decay: 0\n",
       ")"
      ]
     },
     "execution_count": 27,
     "metadata": {},
     "output_type": "execute_result"
    }
   ],
   "source": [
    "learn_rate=0.0001\n",
    "opt = torch.optim.Adam(model2.parameters(),learn_rate)\n",
    "opt"
   ]
  },
  {
   "cell_type": "code",
   "execution_count": 28,
   "id": "864dc763",
   "metadata": {},
   "outputs": [
    {
     "name": "stdout",
     "output_type": "stream",
     "text": [
      "Loss in epoch 1/10 : 0.47581589221954346\n",
      "Loss in epoch 2/10 : 0.2447930872440338\n",
      "Loss in epoch 3/10 : 0.25057968497276306\n",
      "Loss in epoch 4/10 : 0.1454818844795227\n",
      "Loss in epoch 5/10 : 0.2774015963077545\n",
      "Loss in epoch 6/10 : 0.23115921020507812\n",
      "Loss in epoch 7/10 : 0.09506908059120178\n",
      "Loss in epoch 8/10 : 0.06403619050979614\n",
      "Loss in epoch 9/10 : 0.03712291643023491\n",
      "Loss in epoch 10/10 : 0.11274515837430954\n"
     ]
    }
   ],
   "source": [
    "train(10,model2) "
   ]
  },
  {
   "cell_type": "code",
   "execution_count": 29,
   "id": "7b9799f7",
   "metadata": {},
   "outputs": [
    {
     "name": "stdout",
     "output_type": "stream",
     "text": [
      "Accuracy = 97.3%\n"
     ]
    }
   ],
   "source": [
    "test(model2)"
   ]
  },
  {
   "cell_type": "code",
   "execution_count": null,
   "id": "3986d065",
   "metadata": {},
   "outputs": [],
   "source": []
  }
 ],
 "metadata": {
  "kernelspec": {
   "display_name": "Python 3",
   "language": "python",
   "name": "python3"
  },
  "language_info": {
   "codemirror_mode": {
    "name": "ipython",
    "version": 3
   },
   "file_extension": ".py",
   "mimetype": "text/x-python",
   "name": "python",
   "nbconvert_exporter": "python",
   "pygments_lexer": "ipython3",
   "version": "3.8.8"
  }
 },
 "nbformat": 4,
 "nbformat_minor": 5
}
